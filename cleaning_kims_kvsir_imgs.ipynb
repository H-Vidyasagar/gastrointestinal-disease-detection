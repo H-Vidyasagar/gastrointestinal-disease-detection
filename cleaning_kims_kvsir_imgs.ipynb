{
 "cells": [
  {
   "cell_type": "code",
   "execution_count": 53,
   "id": "5b4a5369",
   "metadata": {},
   "outputs": [],
   "source": [
    "import cv2 as cv\n",
    "import numpy as np\n",
    "import os"
   ]
  },
  {
   "cell_type": "code",
   "execution_count": 54,
   "id": "e39d914e",
   "metadata": {},
   "outputs": [],
   "source": [
    "import shutil"
   ]
  },
  {
   "cell_type": "code",
   "execution_count": 5,
   "id": "b3c78060",
   "metadata": {},
   "outputs": [
    {
     "name": "stdout",
     "output_type": "stream",
     "text": [
      "['polyps', 'ulcerative-colitis']\n"
     ]
    }
   ],
   "source": [
    "gastro_diseases=[]\n",
    "for i in os.listdir(r'C:\\Users\\haral\\kvasir-dataset\\asdf'):\n",
    "    gastro_diseases.append(i)\n",
    "print (gastro_diseases)"
   ]
  },
  {
   "cell_type": "code",
   "execution_count": 4,
   "id": "2bb33927",
   "metadata": {},
   "outputs": [],
   "source": [
    "DIR =r'C:\\Users\\haral\\kvasir-dataset\\asdf'"
   ]
  },
  {
   "cell_type": "code",
   "execution_count": 45,
   "id": "6450dcd9",
   "metadata": {},
   "outputs": [
    {
     "data": {
      "text/plain": [
       "-1"
      ]
     },
     "execution_count": 45,
     "metadata": {},
     "output_type": "execute_result"
    }
   ],
   "source": [
    "blank = np.zeros((270,350),dtype='uint8')\n",
    "mask=cv.rectangle(blank, (0,180),(120,270),255,thickness=-1)\n",
    "cv.imshow('mask',mask)\n",
    "\n",
    "\n",
    "img=cv.imread(r'C:\\Users\\haral\\kvasir-dataset\\asdf\\polyps\\0a40274b-e1da-4144-ada2-3f9d7e8bd30e.jpg')\n",
    "img=cv.resize(img,(350,270))\n",
    "cv.imshow('img',img)\n",
    "\n",
    "masked = cv.bitwise_and(img,img,mask=mask)\n",
    "cv.imshow('masked',masked)\n",
    "\n",
    "hsv= cv.cvtColor(masked , cv.COLOR_BGR2HSV)\n",
    "lower=np.array([40,60,60])\n",
    "upper=np.array([180,255,255])\n",
    "mask2=cv.inRange(hsv,lower,upper)\n",
    "cv.imshow('newmask',mask2)\n",
    "\n",
    "\n",
    "cv.waitKey(0)"
   ]
  },
  {
   "cell_type": "code",
   "execution_count": 44,
   "id": "abc66d8c",
   "metadata": {},
   "outputs": [
    {
     "data": {
      "text/plain": [
       "-1"
      ]
     },
     "execution_count": 44,
     "metadata": {},
     "output_type": "execute_result"
    }
   ],
   "source": [
    "blank = np.zeros((270,350),dtype='uint8')\n",
    "mask=cv.rectangle(blank, (0,180),(120,270),255,thickness=-1)\n",
    "cv.imshow('mask',mask)\n",
    "\n",
    "\n",
    "img=cv.imread(r'C:\\Users\\haral\\kvasir-dataset\\asdf\\polyps\\6274b398-080f-46e3-8b21-d84778955111.jpg')\n",
    "img=cv.resize(img,(350,270))\n",
    "cv.imshow('img',img)\n",
    "\n",
    "masked = cv.bitwise_and(img,img,mask=mask)\n",
    "cv.imshow('masked',masked)\n",
    "\n",
    "hsv= cv.cvtColor(masked , cv.COLOR_BGR2HSV)\n",
    "lower=np.array([40,60,60])\n",
    "upper=np.array([180,255,255])\n",
    "mask2=cv.inRange(hsv,lower,upper)\n",
    "cv.imshow('newmask',mask2)\n",
    "\n",
    "\n",
    "cv.waitKey(0)"
   ]
  },
  {
   "cell_type": "code",
   "execution_count": 47,
   "id": "8a1c7bc8",
   "metadata": {},
   "outputs": [
    {
     "name": "stdout",
     "output_type": "stream",
     "text": [
      "found\n"
     ]
    }
   ],
   "source": [
    "if cv.countNonZero(mask2)==0:\n",
    "    print(\"blank\")\n",
    "else:\n",
    "    print(\"found\")"
   ]
  },
  {
   "cell_type": "code",
   "execution_count": 52,
   "id": "6010e9a9",
   "metadata": {},
   "outputs": [
    {
     "data": {
      "text/plain": [
       "'C:\\\\Users\\\\haral\\\\kvasir-dataset\\\\asdf\\\\polyps_sorted\\\\6274b398-080f-46e3-8b21-d84778955111.jpg'"
      ]
     },
     "execution_count": 52,
     "metadata": {},
     "output_type": "execute_result"
    }
   ],
   "source": [
    "path1 =r'C:\\Users\\haral\\kvasir-dataset\\asdf\\polyps\\6274b398-080f-46e3-8b21-d84778955111.jpg'\n",
    "\n",
    "path2 =r'C:\\Users\\haral\\kvasir-dataset\\asdf\\polyps_sorted\\6274b398-080f-46e3-8b21-d84778955111.jpg'\n",
    " \n",
    "shutil.copy(path1, path2)"
   ]
  },
  {
   "cell_type": "code",
   "execution_count": null,
   "id": "28de9023",
   "metadata": {},
   "outputs": [],
   "source": [
    "\n",
    "\n",
    "def create_train():\n",
    "    for disease in gastro_diseases:\n",
    "        path = os.path.join(DIR , disease)\n",
    "        label = gastro_diseases.index(disease)\n",
    "        \n",
    "        for img in os.listdir(path):\n",
    "            img_path=os.path.join(path,img)\n",
    "            \n",
    "            img_arr=cv.imread(img_path)\n",
    "            img_arr=cv.resize(img_arr,(350,270))\n",
    "            \n",
    "          \n",
    "            \n",
    "            "
   ]
  },
  {
   "cell_type": "code",
   "execution_count": 55,
   "id": "14b66857",
   "metadata": {},
   "outputs": [],
   "source": [
    "path1 =r'C:\\Users\\haral\\kvasir-dataset\\asdf\\polyps'\n",
    "path2 =r'C:\\Users\\haral\\kvasir-dataset\\asdf\\polyps_sorted'\n",
    "\n",
    "blank = np.zeros((270,350),dtype='uint8')\n",
    "mask=cv.rectangle(blank, (0,180),(120,270),255,thickness=-1)\n",
    "lower=np.array([40,60,60])\n",
    "upper=np.array([180,255,255])\n",
    "\n",
    "for img in os.listdir(path1):\n",
    "    img_path=os.path.join(path1,img)\n",
    "    img_path2=os.path.join(path2,img)\n",
    "    \n",
    "    img_arr=cv.imread(img_path)\n",
    "    img_arr=cv.resize(img_arr,(350,270))\n",
    "\n",
    "    masked = cv.bitwise_and(img_arr,img_arr,mask=mask)\n",
    "\n",
    "    hsv= cv.cvtColor(masked , cv.COLOR_BGR2HSV)\n",
    "    \n",
    "    mask2=cv.inRange(hsv,lower,upper)\n",
    "\n",
    "    if cv.countNonZero(mask2)==0:\n",
    "        shutil.copy(img_path, img_path2)"
   ]
  },
  {
   "cell_type": "code",
   "execution_count": 56,
   "id": "3352fedf",
   "metadata": {},
   "outputs": [],
   "source": [
    "path1 =r'C:\\Users\\haral\\kvasir-dataset\\asdf\\ulcerative-colitis'\n",
    "path2 =r'C:\\Users\\haral\\kvasir-dataset\\asdf\\ulcerative-colitis_sorted'\n",
    "\n",
    "blank = np.zeros((270,350),dtype='uint8')\n",
    "mask=cv.rectangle(blank, (0,180),(120,270),255,thickness=-1)\n",
    "lower=np.array([40,60,60])\n",
    "upper=np.array([180,255,255])\n",
    "\n",
    "for img in os.listdir(path1):\n",
    "    img_path=os.path.join(path1,img)\n",
    "    img_path2=os.path.join(path2,img)\n",
    "    \n",
    "    img_arr=cv.imread(img_path)\n",
    "    img_arr=cv.resize(img_arr,(350,270))\n",
    "\n",
    "    masked = cv.bitwise_and(img_arr,img_arr,mask=mask)\n",
    "\n",
    "    hsv= cv.cvtColor(masked , cv.COLOR_BGR2HSV)\n",
    "    \n",
    "    mask2=cv.inRange(hsv,lower,upper)\n",
    "\n",
    "    if cv.countNonZero(mask2)==0:\n",
    "        shutil.copy(img_path, img_path2)"
   ]
  },
  {
   "cell_type": "code",
   "execution_count": null,
   "id": "9e407a24",
   "metadata": {},
   "outputs": [],
   "source": []
  }
 ],
 "metadata": {
  "kernelspec": {
   "display_name": "Python 3 (ipykernel)",
   "language": "python",
   "name": "python3"
  },
  "language_info": {
   "codemirror_mode": {
    "name": "ipython",
    "version": 3
   },
   "file_extension": ".py",
   "mimetype": "text/x-python",
   "name": "python",
   "nbconvert_exporter": "python",
   "pygments_lexer": "ipython3",
   "version": "3.10.6"
  }
 },
 "nbformat": 4,
 "nbformat_minor": 5
}
